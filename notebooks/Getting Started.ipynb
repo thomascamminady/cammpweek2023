{
 "cells": [
  {
   "cell_type": "code",
   "execution_count": null,
   "metadata": {},
   "outputs": [],
   "source": [
    "import matplotlib.pyplot as plt\n",
    "import pandas as pd\n",
    "\n",
    "from automatic_climb_detection.resample_dataframe import resample_dataframe"
   ]
  },
  {
   "cell_type": "code",
   "execution_count": null,
   "metadata": {},
   "outputs": [],
   "source": [
    "file = \"../data/TourDeFrance2022/stage-15-parcours.csv\"\n",
    "df = pd.read_csv(file, index_col=0)\n",
    "df1km = resample_dataframe(df, interpolation_column=\"distance\", interpolation_step=1000)"
   ]
  },
  {
   "cell_type": "code",
   "execution_count": null,
   "metadata": {},
   "outputs": [],
   "source": [
    "fig, axs = plt.subplots(1, 2, figsize=(18, 6))\n",
    "plt.suptitle(file)\n",
    "axs[0].plot(df[\"longitude\"], df[\"latitude\"], \"-o\", label=\"High resolution data\")\n",
    "axs[0].plot(df1km[\"longitude\"], df1km[\"latitude\"], \"-o\", label=\"Low resolution data\")\n",
    "axs[0].set(xlabel=\"Longitude\", ylabel=\"Latitude\")\n",
    "axs[0].legend()\n",
    "axs[1].plot(df[\"distance\"], df[\"altitude\"], \"-o\", label=\"High resolution data\")\n",
    "axs[1].plot(df1km[\"distance\"], df1km[\"altitude\"], \"-o\", label=\"Low resolution data\")\n",
    "axs[1].set(xlabel=\"Distance [m]\", ylabel=\"Altitude [m]\")\n",
    "axs[1].legend()"
   ]
  },
  {
   "cell_type": "code",
   "execution_count": null,
   "metadata": {},
   "outputs": [],
   "source": [
    "df1km"
   ]
  },
  {
   "cell_type": "code",
   "execution_count": null,
   "metadata": {},
   "outputs": [],
   "source": []
  }
 ],
 "metadata": {
  "kernelspec": {
   "language": "python",
   "name": "python3"
  },
  "language_info": {
   "codemirror_mode": {
    "name": "ipython",
    "version": 3
   },
   "file_extension": ".py",
   "mimetype": "text/x-python",
   "name": "python",
   "nbconvert_exporter": "python",
   "pygments_lexer": "ipython3",
   "version": "3.10.10"
  }
 },
 "nbformat": 4,
 "nbformat_minor": 2
}
