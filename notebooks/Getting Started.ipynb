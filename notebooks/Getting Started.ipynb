{
 "cells": [
  {
   "cell_type": "code",
   "execution_count": null,
   "metadata": {},
   "outputs": [],
   "source": [
    "import glob\n",
    "\n",
    "import folium\n",
    "import geopandas as gpd\n",
    "import matplotlib.pyplot as plt\n",
    "import pandas as pd\n",
    "from IPython.display import HTML, display  # type: ignore\n",
    "\n",
    "from automatic_climb_detection.resample_dataframe import resample_dataframe"
   ]
  },
  {
   "attachments": {},
   "cell_type": "markdown",
   "metadata": {},
   "source": [
    "# Loading the data\n",
    "Read a route from the 15th Tour de France. \n",
    "\n",
    "It might be easier for us to work with data that is always taken at the same interval.\n",
    "\n",
    "Therefore, we resample the original `DataFrame` to a new `DataFrame` that has latitude, longitude, and altitude information every 1000 meters."
   ]
  },
  {
   "cell_type": "code",
   "execution_count": null,
   "metadata": {},
   "outputs": [],
   "source": [
    "file = \"../data/TourDeFrance2022/stage-15-parcours.csv\"\n",
    "df = pd.read_csv(file, index_col=0)\n",
    "df1km = resample_dataframe(df, interpolation_column=\"distance\", interpolation_step=1000)"
   ]
  },
  {
   "attachments": {},
   "cell_type": "markdown",
   "metadata": {},
   "source": [
    "# Plotting\n",
    "\n",
    "Let's create a simple plot to visualize the data. "
   ]
  },
  {
   "cell_type": "code",
   "execution_count": null,
   "metadata": {},
   "outputs": [],
   "source": [
    "fig, axs = plt.subplots(1, 2, figsize=(18, 6))\n",
    "plt.suptitle(file)\n",
    "axs[0].plot(df[\"longitude\"], df[\"latitude\"], \"-o\", label=\"High resolution data\")\n",
    "axs[0].plot(df1km[\"longitude\"], df1km[\"latitude\"], \"-o\", label=\"Low resolution data\")\n",
    "axs[0].set(xlabel=\"Longitude\", ylabel=\"Latitude\")\n",
    "axs[0].legend()\n",
    "axs[1].plot(df[\"distance\"], df[\"altitude\"], \"-o\", label=\"High resolution data\")\n",
    "axs[1].plot(df1km[\"distance\"], df1km[\"altitude\"], \"-o\", label=\"Low resolution data\")\n",
    "axs[1].set(xlabel=\"Distance [m]\", ylabel=\"Altitude [m]\")\n",
    "axs[1].legend()"
   ]
  },
  {
   "attachments": {},
   "cell_type": "markdown",
   "metadata": {},
   "source": [
    "# Adding a map\n",
    "We can plot the route on an interactive map."
   ]
  },
  {
   "cell_type": "code",
   "execution_count": null,
   "metadata": {},
   "outputs": [],
   "source": [
    "map_obj = folium.Map(\n",
    "    location=(48.856, 2.3522),  # Paris\n",
    "    zoom_start=5,\n",
    "    width=\"100%\",\n",
    "    height=\"100%\",\n",
    ")\n",
    "\n",
    "csv_files = glob.glob(\"../data/TourDeFrance2022/*.csv\")\n",
    "for csv_file in csv_files:\n",
    "    df = pd.read_csv(csv_file)\n",
    "    df = resample_dataframe(\n",
    "        df, interpolation_column=\"distance\", interpolation_step=1000\n",
    "    )\n",
    "    # Convert the latitude and longitude columns to a 'geometry' column\n",
    "    gdf = gpd.GeoDataFrame(df, geometry=gpd.points_from_xy(df.longitude, df.latitude))\n",
    "    # Set the coordinate reference system (CRS) for the GeoDataFrame\n",
    "    gdf.crs = \"EPSG:4326\"\n",
    "    # Create a list of tuples containing latitude and longitude pairs\n",
    "    route_coords = list(zip(gdf.latitude, gdf.longitude))\n",
    "    # Add a polyline with the coordinates of the route\n",
    "    folium.PolyLine(route_coords, color=\"blue\", weight=5, opacity=0.7).add_to(map_obj)\n",
    "\n",
    "\n",
    "# Set the output cell width to match the map width\n",
    "display(HTML(\"<style>.output {width: 40% !important;}</style>\"))\n",
    "# Display the map in Jupyter notebook\n",
    "map_obj"
   ]
  },
  {
   "cell_type": "code",
   "execution_count": null,
   "metadata": {},
   "outputs": [],
   "source": []
  }
 ],
 "metadata": {
  "kernelspec": {
   "language": "python",
   "name": "python3"
  },
  "language_info": {
   "codemirror_mode": {
    "name": "ipython",
    "version": 3
   },
   "file_extension": ".py",
   "mimetype": "text/x-python",
   "name": "python",
   "nbconvert_exporter": "python",
   "pygments_lexer": "ipython3",
   "version": "3.10.10"
  }
 },
 "nbformat": 4,
 "nbformat_minor": 2
}
