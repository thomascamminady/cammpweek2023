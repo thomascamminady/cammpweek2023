{
 "cells": [
  {
   "cell_type": "code",
   "execution_count": null,
   "metadata": {},
   "outputs": [],
   "source": [
    "import glob\n",
    "import os\n",
    "\n",
    "import matplotlib.pyplot as plt\n",
    "import pandas as pd\n",
    "\n",
    "from automatic_climb_detection import logger\n",
    "from automatic_climb_detection.resample_dataframe import resample_dataframe"
   ]
  },
  {
   "attachments": {},
   "cell_type": "markdown",
   "metadata": {},
   "source": [
    "# Loading the data\n",
    "Read a route from the Tour de France. \n",
    "\n",
    "It might be easier for us to work with data that is always taken at the same interval.\n",
    "\n",
    "Therefore, we resample the original `DataFrame` to a new `DataFrame` that has latitude, longitude, and altitude information every 1000 meters."
   ]
  },
  {
   "cell_type": "code",
   "execution_count": null,
   "metadata": {},
   "outputs": [],
   "source": [
    "files = glob.glob(\"../data/TourDeFrance2022/*.csv\")\n",
    "files = sorted(files, key=lambda x: int(os.path.basename(x).split(\"-\")[1]))\n",
    "\n",
    "file = files[12]\n",
    "df = pd.read_csv(file, index_col=0)\n",
    "df1km = resample_dataframe(df, interpolation_column=\"distance\", interpolation_step=1000)"
   ]
  },
  {
   "attachments": {},
   "cell_type": "markdown",
   "metadata": {},
   "source": [
    "# Plotting\n",
    "\n",
    "Let's create a simple plot to visualize the data. "
   ]
  },
  {
   "cell_type": "code",
   "execution_count": null,
   "metadata": {},
   "outputs": [],
   "source": [
    "%matplotlib widget\n",
    "\n",
    "fig, axs = plt.subplots(1, 2, figsize=(18, 6))\n",
    "plt.suptitle(file)\n",
    "axs[0].plot(df[\"longitude\"], df[\"latitude\"], \"-o\", label=\"High resolution data\")\n",
    "axs[0].plot(df1km[\"longitude\"], df1km[\"latitude\"], \"-x\", label=\"Low resolution data\")\n",
    "axs[0].set(xlabel=\"Longitude\", ylabel=\"Latitude\")\n",
    "axs[0].legend()\n",
    "axs[1].plot(df[\"distance\"], df[\"altitude\"], \"-o\", label=\"High resolution data\")\n",
    "axs[1].plot(df1km[\"distance\"], df1km[\"altitude\"], \"-x\", label=\"Low resolution data\")\n",
    "axs[1].set(xlabel=\"Distance [m]\", ylabel=\"Altitude [m]\")\n",
    "axs[1].legend()"
   ]
  }
 ],
 "metadata": {
  "kernelspec": {
   "language": "python",
   "name": "python3"
  },
  "language_info": {
   "codemirror_mode": {
    "name": "ipython",
    "version": 3
   },
   "file_extension": ".py",
   "mimetype": "text/x-python",
   "name": "python",
   "nbconvert_exporter": "python",
   "pygments_lexer": "ipython3",
   "version": "3.10.10"
  }
 },
 "nbformat": 4,
 "nbformat_minor": 2
}
