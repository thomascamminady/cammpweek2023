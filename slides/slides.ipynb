{
 "cells": [
  {
   "cell_type": "raw",
   "metadata": {},
   "source": [
    "---\n",
    "title: \"Automatic Climb Detection\"\n",
    "author: \"Wahoo Fitness | Thomas Camminady & Tori Wuthrich\"\n",
    "format:\n",
    "  revealjs:\n",
    "    slide-number: false\n",
    "    theme: [default, custom.scss]\n",
    "fontcolor: darkgrey\n",
    "logo: WahooOnly_BlackOnWhite_TransBkgd_Logo.png\n",
    "---"
   ]
  },
  {
   "cell_type": "code",
   "execution_count": null,
   "metadata": {},
   "outputs": [],
   "source": [
    "import matplotlib.pyplot as plt\n",
    "import numpy as np\n",
    "import scipy\n",
    "\n",
    "figsize = (10, 3)\n",
    "lw = 4\n",
    "highlightcolor = \"orange\"\n",
    "color = \"dimgrey\"\n",
    "\n",
    "\n",
    "def clean(ax):\n",
    "    ax.set(xticks=[], yticks=[])\n",
    "    ax.grid(False)\n",
    "    ax.spines[\"top\"].set_visible(False)\n",
    "    ax.spines[\"right\"].set_visible(False)\n",
    "    ax.spines[\"bottom\"].set_visible(False)\n",
    "    ax.spines[\"left\"].set_visible(False)\n",
    "\n",
    "\n",
    "def get_fig_ax(figsize=figsize):\n",
    "    fig, ax = plt.subplots(figsize=figsize)\n",
    "    clean(ax)\n",
    "    return fig, ax"
   ]
  },
  {
   "attachments": {},
   "cell_type": "markdown",
   "metadata": {},
   "source": [
    "## What's a climb?"
   ]
  },
  {
   "cell_type": "code",
   "execution_count": null,
   "metadata": {},
   "outputs": [],
   "source": [
    "fig, ax = get_fig_ax()\n",
    "altitude = [0, 1, 3, 5, 9, 0, 4, 6, 5, 10, 3, 2, 3, 0, 0]\n",
    "ax.plot(range(len(altitude)), altitude, lw=lw, color=color)"
   ]
  },
  {
   "attachments": {},
   "cell_type": "markdown",
   "metadata": {},
   "source": [
    "## <span style=\"color:orange;\">This</span> is a climb.\n"
   ]
  },
  {
   "cell_type": "code",
   "execution_count": null,
   "metadata": {},
   "outputs": [],
   "source": [
    "fig, ax = get_fig_ax()\n",
    "ax.plot(range(len(altitude)), altitude, lw=lw, color=color)\n",
    "ax.plot([0, 1, 2, 3, 4], [0, 1, 3, 5, 9], lw=lw, color=highlightcolor)"
   ]
  },
  {
   "attachments": {},
   "cell_type": "markdown",
   "metadata": {},
   "source": [
    "## And what about <span style=\"color:orange;\">this</span>?"
   ]
  },
  {
   "cell_type": "code",
   "execution_count": null,
   "metadata": {},
   "outputs": [],
   "source": [
    "fig, ax = get_fig_ax()\n",
    "ax.plot(range(len(altitude)), altitude, lw=lw, color=color)\n",
    "ax.plot([11, 12], [2, 3], lw=lw, color=highlightcolor)"
   ]
  },
  {
   "attachments": {},
   "cell_type": "markdown",
   "metadata": {},
   "source": [
    "## <span style=\"color:orange;\">To split</span> or not to split?\n"
   ]
  },
  {
   "cell_type": "code",
   "execution_count": null,
   "metadata": {},
   "outputs": [],
   "source": [
    "fig, ax = get_fig_ax()\n",
    "ax.plot(range(len(altitude)), altitude, lw=lw, color=color)\n",
    "ax.plot([5, 6, 7], [0, 4, 6], lw=lw, color=highlightcolor)\n",
    "ax.plot([8, 9], [5, 10], lw=lw, color=highlightcolor)"
   ]
  },
  {
   "attachments": {},
   "cell_type": "markdown",
   "metadata": {},
   "source": [
    "## To split or <span style=\"color:orange;\">not to split</span>?\n"
   ]
  },
  {
   "cell_type": "code",
   "execution_count": null,
   "metadata": {},
   "outputs": [],
   "source": [
    "fig, ax = get_fig_ax()\n",
    "ax.plot(range(len(altitude)), altitude, lw=lw, color=color)\n",
    "ax.plot([5, 6, 7, 8, 9], [0, 4, 6, 5, 10], lw=lw, color=highlightcolor)"
   ]
  },
  {
   "attachments": {},
   "cell_type": "markdown",
   "metadata": {},
   "source": [
    "## Real data is <span style=\"color:orange;\">messy</span>.\n"
   ]
  },
  {
   "cell_type": "code",
   "execution_count": null,
   "metadata": {},
   "outputs": [],
   "source": [
    "fig, ax = get_fig_ax()\n",
    "interpolant = scipy.interpolate.interp1d(\n",
    "    range(len(altitude)), altitude, fill_value=True\n",
    ")\n",
    "x = np.linspace(0, 14, 141)\n",
    "noise = 0.2 * np.random.randn(len(x))\n",
    "ax.plot(x, interpolant(x), lw=lw, color=color)\n",
    "ax.plot(x, interpolant(x) + noise, lw=lw, color=highlightcolor, alpha=0.7)"
   ]
  },
  {
   "attachments": {},
   "cell_type": "markdown",
   "metadata": {},
   "source": [
    "## Climb detection"
   ]
  },
  {
   "cell_type": "raw",
   "metadata": {},
   "source": [
    "\n",
    ":::{.incremental}\n",
    "- Develop a climb detection algorithm:\n",
    "  - In postprocessing, looking at the <span style=\"color:orange;\">full ride</span>.\n",
    "  - Live, looking at the <span style=\"color:orange;\">full history ride</span>.\n",
    "  - Live, looking at a <span style=\"color:orange;\">fixed-size buffer</span> with data.\n",
    ":::"
   ]
  },
  {
   "attachments": {},
   "cell_type": "markdown",
   "metadata": {},
   "source": [
    "## Climb scoring\n"
   ]
  },
  {
   "cell_type": "raw",
   "metadata": {},
   "source": [
    ":::{.incremental}\n",
    "- Develop a climb score:\n",
    "  - <span style=\"color:orange;\">Steeper climbs are harder</span> than gradual ones.\n",
    "  - <span style=\"color:orange;\">Longer climbs are harder</span> than shorter ones.\n",
    "  - But what about steep and short vs. gradual and long?\n",
    "\n",
    "- Tour de France 2022:\n",
    "  - Same climb but different score.\n",
    "  - Takes <span style=\"color:orange;\">exhaustion</span> into account.\n",
    ":::"
   ]
  },
  {
   "attachments": {},
   "cell_type": "markdown",
   "metadata": {},
   "source": [
    "## Data & Code\n"
   ]
  },
  {
   "cell_type": "raw",
   "metadata": {},
   "source": [
    ":::{.incremental}\n",
    "- 21 stages of the Tour de France 2022.\n",
    "- Create routes using OSM / Google Maps.\n",
    "- Create fake elevation profiles.\n",
    "- Python code handles a lot of the IO.\n",
    ":::"
   ]
  },
  {
   "attachments": {},
   "cell_type": "markdown",
   "metadata": {},
   "source": [
    "## Be creative\n"
   ]
  },
  {
   "attachments": {},
   "cell_type": "raw",
   "metadata": {},
   "source": [
    ":::{.incremental}\n",
    "\n",
    "- Definition of a climb is ambigous.\n",
    "- So is the climb score.\n",
    "- <span style=\"color:orange;\">Discuss different ideas, try them out, and compare.</span>\n",
    ":::"
   ]
  }
 ],
 "metadata": {
  "kernelspec": {
   "display_name": ".venv",
   "language": "python",
   "name": "python3"
  },
  "language_info": {
   "codemirror_mode": {
    "name": "ipython",
    "version": 3
   },
   "file_extension": ".py",
   "mimetype": "text/x-python",
   "name": "python",
   "nbconvert_exporter": "python",
   "pygments_lexer": "ipython3",
   "version": "3.10.10"
  }
 },
 "nbformat": 4,
 "nbformat_minor": 2
}
